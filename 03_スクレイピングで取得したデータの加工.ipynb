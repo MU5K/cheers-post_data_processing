{
 "cells": [
  {
   "attachments": {},
   "cell_type": "markdown",
   "metadata": {},
   "source": [
    "# スクレイピングで取得したデータの加工\n",
    "\n",
    "## 使い方\n",
    "1. `requirements.txt` に記載のライブラリをインストール（緯度経度の取得、アプリ作成に必要なライブラリ含む）\n",
    "2. [インポートとエクスポートの設定](#インポートとエクスポートの設定) を入力し `すべてを実行` ボタンで生成\n",
    "\n",
    "## Note\n",
    "- スクレイピングで取得したドリンクメニュー（ドリンク名およびドリンク価格）は、データ構造がリストの入れ子になっているため分割する必要がある\n",
    "- 2022年12月16日現在、 `Pandas` で1度に分割できればいいのだが、難しそうだったのでドリンク名とドリンク価格で別々に分割し、スプレッドシート上で連結させている\n",
    "- それぞれ分割したドリンク名の個数、ドリンク価格の個数が一致していて、分割されたドリンク名およびドリンク価格の店舗ごとのドリンクメニュー数も一致しているためデータにはズレは生じていないと思われる\n",
    "  - ランダムで目視確認したところ問題なさそうだった"
   ]
  },
  {
   "attachments": {},
   "cell_type": "markdown",
   "metadata": {},
   "source": [
    "## 前準備"
   ]
  },
  {
   "attachments": {},
   "cell_type": "markdown",
   "metadata": {},
   "source": [
    "### パッケージのインポート"
   ]
  },
  {
   "cell_type": "code",
   "execution_count": 1,
   "metadata": {},
   "outputs": [],
   "source": [
    "import pandas as pd\n",
    "import numpy as np\n",
    "import json\n",
    "import datetime as dt\n",
    "import jaconv # 全角を半角にするために必要\n",
    "\n",
    "now = dt.datetime.now()\n",
    "time = now.strftime(\"%y%m%d-%H%M\")"
   ]
  },
  {
   "attachments": {},
   "cell_type": "markdown",
   "metadata": {},
   "source": [
    "### インポートとエクスポートの設定"
   ]
  },
  {
   "attachments": {},
   "cell_type": "markdown",
   "metadata": {},
   "source": [
    "### 読み込みするデータのファイル名、出力するデータのファイル名を変更する必要あり\n",
    "\n",
    "- `import_file_name`: 読み込むJSONのファイル名を拡張子なしで入力\n",
    "- `export_file_name`: 出力するファイル名を入力\n",
    "  - インポートするデータに合わせて変更\n",
    "  - 出力はCSV"
   ]
  },
  {
   "cell_type": "code",
   "execution_count": 2,
   "metadata": {},
   "outputs": [],
   "source": [
    "# インポートするファイル名\n",
    "import_file_name = \"221218-1456_hotpepper_restaurant_lat_lng\"\n",
    "# import_file_name = \"221218-1928_tabelog_restaurant_lat_lng\"\n",
    "\n",
    "# エクスポートするファイル名\n",
    "export_file_name = \"hotpepper\"\n",
    "# export_file_name = \"tabelog\""
   ]
  },
  {
   "attachments": {},
   "cell_type": "markdown",
   "metadata": {},
   "source": [
    "### JSONの読み込み"
   ]
  },
  {
   "cell_type": "code",
   "execution_count": 3,
   "metadata": {},
   "outputs": [],
   "source": [
    "# 店舗情報データJSONを読み込み\n",
    "with open(f\"export_files/{import_file_name}.json\") as file:\n",
    "    restaurant_list = json.load(file)"
   ]
  },
  {
   "attachments": {},
   "cell_type": "markdown",
   "metadata": {},
   "source": [
    "## `Pandas` でデータを整形する準備"
   ]
  },
  {
   "attachments": {},
   "cell_type": "markdown",
   "metadata": {},
   "source": [
    "### JSONから読み込んだデータをPandas形式に変換"
   ]
  },
  {
   "cell_type": "code",
   "execution_count": 4,
   "metadata": {},
   "outputs": [],
   "source": [
    "df = pd.DataFrame(restaurant_list)"
   ]
  },
  {
   "attachments": {},
   "cell_type": "markdown",
   "metadata": {},
   "source": [
    "### ジャンルのリストを展開"
   ]
  },
  {
   "cell_type": "code",
   "execution_count": 5,
   "metadata": {},
   "outputs": [],
   "source": [
    "df[\"restaurant_genre\"] = df[\"restaurant_genre\"].str.join(\"・\")\n",
    "\n",
    "# 以下、`ドリンク価格に全角が入っていた場合、半角に置換`の後に行うと思ったとおりのデータとならなかった\n",
    "# JSONを読み込んですぐのこの場所ではうまくいく\n",
    "# _restaurant_genre = df[[\"restaurant_genre\"]]\n",
    "# __restaurant_genre = _restaurant_genre[\"restaurant_genre\"].str.join(\"・\")\n",
    "# __restaurant_genre"
   ]
  },
  {
   "cell_type": "code",
   "execution_count": 6,
   "metadata": {},
   "outputs": [
    {
     "data": {
      "text/html": [
       "<div>\n",
       "<style scoped>\n",
       "    .dataframe tbody tr th:only-of-type {\n",
       "        vertical-align: middle;\n",
       "    }\n",
       "\n",
       "    .dataframe tbody tr th {\n",
       "        vertical-align: top;\n",
       "    }\n",
       "\n",
       "    .dataframe thead th {\n",
       "        text-align: right;\n",
       "    }\n",
       "</style>\n",
       "<table border=\"1\" class=\"dataframe\">\n",
       "  <thead>\n",
       "    <tr style=\"text-align: right;\">\n",
       "      <th></th>\n",
       "      <th>restaurant_name</th>\n",
       "      <th>restaurant_address</th>\n",
       "      <th>restaurant_tel</th>\n",
       "      <th>restaurant_url</th>\n",
       "      <th>restaurant_genre</th>\n",
       "      <th>drink_name</th>\n",
       "      <th>drink_price</th>\n",
       "      <th>restaurant_latitude</th>\n",
       "      <th>restaurant_longitude</th>\n",
       "    </tr>\n",
       "  </thead>\n",
       "  <tbody>\n",
       "    <tr>\n",
       "      <th>0</th>\n",
       "      <td>海鮮酒場　うおぷく　梅田店</td>\n",
       "      <td>大阪府大阪市北区堂山町4-12 白馬車ビル３F</td>\n",
       "      <td>050-5861-6095</td>\n",
       "      <td>https://www.hotpepper.jp/strJ001292956/</td>\n",
       "      <td>居酒屋・和食</td>\n",
       "      <td>[黒ラベル, アサヒスーパードライ（中瓶）/キリン一番搾り（中瓶）/赤星（中瓶）, オールフ...</td>\n",
       "      <td>[550, 660, 550, 462, 418, 462, 352, 418, 418, ...</td>\n",
       "      <td>34.702542</td>\n",
       "      <td>135.502122</td>\n",
       "    </tr>\n",
       "    <tr>\n",
       "      <th>1</th>\n",
       "      <td>榮華亭　梅田東通り店</td>\n",
       "      <td>大阪府大阪市北区堂山町１０－４　忠兵衛ビル2・3・4F</td>\n",
       "      <td>050-5281-0957</td>\n",
       "      <td>https://www.hotpepper.jp/strJ000061620/</td>\n",
       "      <td>焼肉・ホルモン・韓国料理</td>\n",
       "      <td>[生ビール, 瓶ビール, ノンアルコールビール　アサヒドライゼロ, プレーン／レモン／ライム...</td>\n",
       "      <td>[400, 550, 380, 350, 350, 500, 400, 400, 750, ...</td>\n",
       "      <td>34.703090</td>\n",
       "      <td>135.504295</td>\n",
       "    </tr>\n",
       "    <tr>\n",
       "      <th>2</th>\n",
       "      <td>お初天神応援団　勝男</td>\n",
       "      <td>大阪府大阪市北区曽根崎２－７－１３</td>\n",
       "      <td>050-5452-6150</td>\n",
       "      <td>https://www.hotpepper.jp/strJ001259280/</td>\n",
       "      <td>居酒屋・和食</td>\n",
       "      <td>[角ハイボール, トリスハイボール, マス男さん角ハイ, マス男さんトリハイ, 「名物」勝男...</td>\n",
       "      <td>[220, 165, 418, 308, 275, 328, 328, 328, 328, ...</td>\n",
       "      <td>34.699787</td>\n",
       "      <td>135.500493</td>\n",
       "    </tr>\n",
       "    <tr>\n",
       "      <th>3</th>\n",
       "      <td>最大165品　食べ放題 飲み放題　大衆居酒屋　梅田スタンド　梅田店</td>\n",
       "      <td>大阪府大阪市北区曽根崎２丁目 16-22 ジャスミン曽根崎ビル9F</td>\n",
       "      <td>050-5816-3131</td>\n",
       "      <td>https://www.hotpepper.jp/strJ001277115/</td>\n",
       "      <td>居酒屋</td>\n",
       "      <td>[キリン一番搾り, シャンディーガフ, ハイボール, コークハイ, ジンジャーハイ, レモン...</td>\n",
       "      <td>[440, 462, 385, 440, 440, 418, 418, 418, 418, ...</td>\n",
       "      <td>34.701702</td>\n",
       "      <td>135.500410</td>\n",
       "    </tr>\n",
       "    <tr>\n",
       "      <th>4</th>\n",
       "      <td>個室 もつ鍋 泳ぎイカ 九州うまか 梅田店</td>\n",
       "      <td>大阪府大阪市北区角田町１－１　地下１Ｆ</td>\n",
       "      <td>050-5834-2760</td>\n",
       "      <td>https://www.hotpepper.jp/strJ000973173/</td>\n",
       "      <td>居酒屋・創作料理</td>\n",
       "      <td>[超炭酸ビームハイ, 超炭酸ビームハイ　濃いめ, 超炭酸ビームハイ　MEGA, 柚子/巨峰/...</td>\n",
       "      <td>[380, 480, 660, 530, 430, 500, 750, 550, 650, ...</td>\n",
       "      <td>34.704002</td>\n",
       "      <td>135.501257</td>\n",
       "    </tr>\n",
       "    <tr>\n",
       "      <th>...</th>\n",
       "      <td>...</td>\n",
       "      <td>...</td>\n",
       "      <td>...</td>\n",
       "      <td>...</td>\n",
       "      <td>...</td>\n",
       "      <td>...</td>\n",
       "      <td>...</td>\n",
       "      <td>...</td>\n",
       "      <td>...</td>\n",
       "    </tr>\n",
       "    <tr>\n",
       "      <th>1350</th>\n",
       "      <td>BAR Chill</td>\n",
       "      <td>大阪府大阪市北区堂山町11-14　那由多ビル4F</td>\n",
       "      <td>050-5451-1923</td>\n",
       "      <td>https://www.hotpepper.jp/strJ001234421/</td>\n",
       "      <td>バー・カクテル</td>\n",
       "      <td>[【シャーリーテンプル】, 【グレンフィディック】, 【アードベッグ】, 【マッカラン　12年】]</td>\n",
       "      <td>[-, -, -, -]</td>\n",
       "      <td>34.703695</td>\n",
       "      <td>135.504479</td>\n",
       "    </tr>\n",
       "    <tr>\n",
       "      <th>1351</th>\n",
       "      <td>個室均一居酒屋　きんいち　お初天神店</td>\n",
       "      <td>大阪府大阪市北区曽根崎２-8-7 コーストスタジョーネ4F</td>\n",
       "      <td>06-6364-1111</td>\n",
       "      <td>https://www.hotpepper.jp/strJ000690098/</td>\n",
       "      <td>居酒屋</td>\n",
       "      <td>[ジムビーム, 角ハイボール, ザ・プレミアムモルツ（中）, ジムビーム, 角瓶, 紀州南高...</td>\n",
       "      <td>[418, 418, 418, 418, 418, 418, 418, 418, 418, ...</td>\n",
       "      <td>34.699723</td>\n",
       "      <td>135.501128</td>\n",
       "    </tr>\n",
       "    <tr>\n",
       "      <th>1352</th>\n",
       "      <td>食べ放題専門居酒屋　日本一　梅田店</td>\n",
       "      <td>大阪府大阪市北区曽根崎２-8-7　コーストスタジョーネ4階</td>\n",
       "      <td>06-6364-3833</td>\n",
       "      <td>https://www.hotpepper.jp/strJ001029469/</td>\n",
       "      <td>居酒屋</td>\n",
       "      <td>[ジムビーム, 角ハイボール, ザ・プレミアムモルツ（中）, ジムビーム, 角瓶, 紀州南高...</td>\n",
       "      <td>[418, 418, 418, 418, 418, 418, 418, 418, 418, ...</td>\n",
       "      <td>34.699723</td>\n",
       "      <td>135.501128</td>\n",
       "    </tr>\n",
       "    <tr>\n",
       "      <th>1353</th>\n",
       "      <td>カジュアルフレンチとワイン ポポンペット ラスール</td>\n",
       "      <td>大阪府大阪市北区角田町5-1　梅田楽天地ビル1Ｆ</td>\n",
       "      <td>06-6311-0570</td>\n",
       "      <td>https://www.hotpepper.jp/strJ001184483/</td>\n",
       "      <td>ダイニングバー・バル</td>\n",
       "      <td>[バロン・アルベール・リュニヴェルセル・ブリュットNV　＊【平日は終日900円⇒600円】,...</td>\n",
       "      <td>[平日は終日600, 平日は終日800, 平日は終日1000, 16時まで550⇒400, ...</td>\n",
       "      <td>34.703865</td>\n",
       "      <td>135.500578</td>\n",
       "    </tr>\n",
       "    <tr>\n",
       "      <th>1354</th>\n",
       "      <td>阪急トップビアガーデン</td>\n",
       "      <td>大阪府大阪市北区芝田１－１－４　阪急ターミナルビル屋上</td>\n",
       "      <td>06-6375-1780</td>\n",
       "      <td>https://www.hotpepper.jp/strJ000030054/</td>\n",
       "      <td>創作料理</td>\n",
       "      <td>[【Beer】 ビール, 【Whisky】 ウィスキー, 【Sour】 サワー, 【Wine...</td>\n",
       "      <td>[-, -, -, -, -, -, -, -, ＋1500]</td>\n",
       "      <td>34.704255</td>\n",
       "      <td>135.498722</td>\n",
       "    </tr>\n",
       "  </tbody>\n",
       "</table>\n",
       "<p>1355 rows × 9 columns</p>\n",
       "</div>"
      ],
      "text/plain": [
       "                        restaurant_name                 restaurant_address  \\\n",
       "0                         海鮮酒場　うおぷく　梅田店            大阪府大阪市北区堂山町4-12 白馬車ビル３F   \n",
       "1                            榮華亭　梅田東通り店        大阪府大阪市北区堂山町１０－４　忠兵衛ビル2・3・4F   \n",
       "2                            お初天神応援団　勝男                  大阪府大阪市北区曽根崎２－７－１３   \n",
       "3     最大165品　食べ放題 飲み放題　大衆居酒屋　梅田スタンド　梅田店  大阪府大阪市北区曽根崎２丁目 16-22 ジャスミン曽根崎ビル9F   \n",
       "4                 個室 もつ鍋 泳ぎイカ 九州うまか 梅田店                大阪府大阪市北区角田町１－１　地下１Ｆ   \n",
       "...                                 ...                                ...   \n",
       "1350                          BAR Chill           大阪府大阪市北区堂山町11-14　那由多ビル4F   \n",
       "1351                 個室均一居酒屋　きんいち　お初天神店      大阪府大阪市北区曽根崎２-8-7 コーストスタジョーネ4F   \n",
       "1352                  食べ放題専門居酒屋　日本一　梅田店      大阪府大阪市北区曽根崎２-8-7　コーストスタジョーネ4階   \n",
       "1353          カジュアルフレンチとワイン ポポンペット ラスール           大阪府大阪市北区角田町5-1　梅田楽天地ビル1Ｆ   \n",
       "1354                        阪急トップビアガーデン        大阪府大阪市北区芝田１－１－４　阪急ターミナルビル屋上   \n",
       "\n",
       "     restaurant_tel                           restaurant_url restaurant_genre  \\\n",
       "0     050-5861-6095  https://www.hotpepper.jp/strJ001292956/           居酒屋・和食   \n",
       "1     050-5281-0957  https://www.hotpepper.jp/strJ000061620/     焼肉・ホルモン・韓国料理   \n",
       "2     050-5452-6150  https://www.hotpepper.jp/strJ001259280/           居酒屋・和食   \n",
       "3     050-5816-3131  https://www.hotpepper.jp/strJ001277115/              居酒屋   \n",
       "4     050-5834-2760  https://www.hotpepper.jp/strJ000973173/         居酒屋・創作料理   \n",
       "...             ...                                      ...              ...   \n",
       "1350  050-5451-1923  https://www.hotpepper.jp/strJ001234421/          バー・カクテル   \n",
       "1351   06-6364-1111  https://www.hotpepper.jp/strJ000690098/              居酒屋   \n",
       "1352   06-6364-3833  https://www.hotpepper.jp/strJ001029469/              居酒屋   \n",
       "1353   06-6311-0570  https://www.hotpepper.jp/strJ001184483/       ダイニングバー・バル   \n",
       "1354   06-6375-1780  https://www.hotpepper.jp/strJ000030054/             創作料理   \n",
       "\n",
       "                                             drink_name  \\\n",
       "0     [黒ラベル, アサヒスーパードライ（中瓶）/キリン一番搾り（中瓶）/赤星（中瓶）, オールフ...   \n",
       "1     [生ビール, 瓶ビール, ノンアルコールビール　アサヒドライゼロ, プレーン／レモン／ライム...   \n",
       "2     [角ハイボール, トリスハイボール, マス男さん角ハイ, マス男さんトリハイ, 「名物」勝男...   \n",
       "3     [キリン一番搾り, シャンディーガフ, ハイボール, コークハイ, ジンジャーハイ, レモン...   \n",
       "4     [超炭酸ビームハイ, 超炭酸ビームハイ　濃いめ, 超炭酸ビームハイ　MEGA, 柚子/巨峰/...   \n",
       "...                                                 ...   \n",
       "1350  [【シャーリーテンプル】, 【グレンフィディック】, 【アードベッグ】, 【マッカラン　12年】]   \n",
       "1351  [ジムビーム, 角ハイボール, ザ・プレミアムモルツ（中）, ジムビーム, 角瓶, 紀州南高...   \n",
       "1352  [ジムビーム, 角ハイボール, ザ・プレミアムモルツ（中）, ジムビーム, 角瓶, 紀州南高...   \n",
       "1353  [バロン・アルベール・リュニヴェルセル・ブリュットNV　＊【平日は終日900円⇒600円】,...   \n",
       "1354  [【Beer】 ビール, 【Whisky】 ウィスキー, 【Sour】 サワー, 【Wine...   \n",
       "\n",
       "                                            drink_price  restaurant_latitude  \\\n",
       "0     [550, 660, 550, 462, 418, 462, 352, 418, 418, ...            34.702542   \n",
       "1     [400, 550, 380, 350, 350, 500, 400, 400, 750, ...            34.703090   \n",
       "2     [220, 165, 418, 308, 275, 328, 328, 328, 328, ...            34.699787   \n",
       "3     [440, 462, 385, 440, 440, 418, 418, 418, 418, ...            34.701702   \n",
       "4     [380, 480, 660, 530, 430, 500, 750, 550, 650, ...            34.704002   \n",
       "...                                                 ...                  ...   \n",
       "1350                                       [-, -, -, -]            34.703695   \n",
       "1351  [418, 418, 418, 418, 418, 418, 418, 418, 418, ...            34.699723   \n",
       "1352  [418, 418, 418, 418, 418, 418, 418, 418, 418, ...            34.699723   \n",
       "1353  [平日は終日600, 平日は終日800, 平日は終日1000, 16時まで550⇒400, ...            34.703865   \n",
       "1354                    [-, -, -, -, -, -, -, -, ＋1500]            34.704255   \n",
       "\n",
       "      restaurant_longitude  \n",
       "0               135.502122  \n",
       "1               135.504295  \n",
       "2               135.500493  \n",
       "3               135.500410  \n",
       "4               135.501257  \n",
       "...                    ...  \n",
       "1350            135.504479  \n",
       "1351            135.501128  \n",
       "1352            135.501128  \n",
       "1353            135.500578  \n",
       "1354            135.498722  \n",
       "\n",
       "[1355 rows x 9 columns]"
      ]
     },
     "execution_count": 6,
     "metadata": {},
     "output_type": "execute_result"
    }
   ],
   "source": [
    "df"
   ]
  },
  {
   "attachments": {},
   "cell_type": "markdown",
   "metadata": {},
   "source": [
    "### リスト形式でカラムに格納されている `ドリンク名` と `ドリンク価格` を分割\n",
    "\n",
    "- `ドリンク名` と `ドリンク価格` は、1つのカラムにリストで格納されている\n",
    "- `ドリンク名` と `ドリンク価格` を同時に分割することがベストだと思うが、現在のスキルでは時間がかかりそうなのでそれぞれを行に分割した上でINDEXキーを軸に結合する選択を行った"
   ]
  },
  {
   "attachments": {},
   "cell_type": "markdown",
   "metadata": {},
   "source": [
    "#### `ドリンク名`に格納されているリストを分割\n",
    "\n",
    "- ドリンク価格の列を削除し、ドリンクメニューはリスト配列になっているので行に分割\n",
    "- 参考: [python \\- How to unnest \\(explode\\) a column in a pandas DataFrame, into multiple rows \\- Stack Overflow](https://stackoverflow.com/questions/53218931/how-to-unnest-explode-a-column-in-a-pandas-dataframe-into-multiple-rows)"
   ]
  },
  {
   "cell_type": "code",
   "execution_count": 7,
   "metadata": {},
   "outputs": [],
   "source": [
    "del_drink_price = df.drop(columns=\"drink_price\")"
   ]
  },
  {
   "cell_type": "code",
   "execution_count": 8,
   "metadata": {},
   "outputs": [],
   "source": [
    "del_drink_price.drink_name = del_drink_price.drink_name.fillna({i: [] for i in del_drink_price.index})  # replace NaN with []"
   ]
  },
  {
   "attachments": {},
   "cell_type": "markdown",
   "metadata": {},
   "source": [
    "- ドリンク名を分割することで行が増えるため `ignore_index` を `True` に設定し、INDEX番号を振り直す（ドリンク価格のデータと結合するときにキーにできるのが `INDEX` しかないため必須）"
   ]
  },
  {
   "cell_type": "code",
   "execution_count": 9,
   "metadata": {},
   "outputs": [],
   "source": [
    "drink_name_split = del_drink_price.explode(\"drink_name\", ignore_index=True)"
   ]
  },
  {
   "attachments": {},
   "cell_type": "markdown",
   "metadata": {},
   "source": [
    "- `ドリンク名` と `ドリンク価格` を別々に分割するので行数が一致しているか確認"
   ]
  },
  {
   "cell_type": "code",
   "execution_count": 10,
   "metadata": {},
   "outputs": [
    {
     "data": {
      "text/plain": [
       "(50621, 8)"
      ]
     },
     "execution_count": 10,
     "metadata": {},
     "output_type": "execute_result"
    }
   ],
   "source": [
    "drink_name_split.shape"
   ]
  },
  {
   "attachments": {},
   "cell_type": "markdown",
   "metadata": {},
   "source": [
    "- CSVに出力する必要があればコメントアウトを解除"
   ]
  },
  {
   "cell_type": "code",
   "execution_count": 11,
   "metadata": {},
   "outputs": [],
   "source": [
    "# drink_name_split.to_csv(\"{}_drink_name_split_{}.csv\".format(export_file_name, time), index=False)"
   ]
  },
  {
   "attachments": {},
   "cell_type": "markdown",
   "metadata": {},
   "source": [
    "#### `ドリンク価格` に格納されているリストを分割\n",
    "\n",
    "- ドリンク価格の列のみを `df_drink_price` に格納し、ドリンク価格のリストに格納されているデータを行に分割"
   ]
  },
  {
   "cell_type": "code",
   "execution_count": 12,
   "metadata": {},
   "outputs": [],
   "source": [
    "df_drink_price = df[[\"drink_price\"]]"
   ]
  },
  {
   "cell_type": "code",
   "execution_count": 13,
   "metadata": {},
   "outputs": [],
   "source": [
    "df_drink_price = df_drink_price.drink_price.fillna({i: [] for i in df_drink_price.index})  # replace NaN with []"
   ]
  },
  {
   "attachments": {},
   "cell_type": "markdown",
   "metadata": {},
   "source": [
    "- ドリンク価格を分割することで行が増えるが、ドリンク名と違い `ignore_index` を `True` に設定しなくても自動的にINDEX番号が振り直される"
   ]
  },
  {
   "cell_type": "code",
   "execution_count": 14,
   "metadata": {},
   "outputs": [],
   "source": [
    "drink_price_split = df_drink_price.explode(\"drink_price\")"
   ]
  },
  {
   "attachments": {},
   "cell_type": "markdown",
   "metadata": {},
   "source": [
    "- `ドリンク名` と `ドリンク価格` を別々に分割するので行数が一致しているか確認"
   ]
  },
  {
   "cell_type": "code",
   "execution_count": 15,
   "metadata": {},
   "outputs": [
    {
     "data": {
      "text/plain": [
       "(50621,)"
      ]
     },
     "execution_count": 15,
     "metadata": {},
     "output_type": "execute_result"
    }
   ],
   "source": [
    "drink_price_split.shape"
   ]
  },
  {
   "attachments": {},
   "cell_type": "markdown",
   "metadata": {},
   "source": [
    "- CSVに出力する必要があればコメントアウトを解除"
   ]
  },
  {
   "cell_type": "code",
   "execution_count": 16,
   "metadata": {},
   "outputs": [],
   "source": [
    "# drink_price_split.to_csv(\"/{}_drink_price_split_{}.csv\".format(export_file_name, time), index=False)"
   ]
  },
  {
   "attachments": {},
   "cell_type": "markdown",
   "metadata": {},
   "source": [
    "### ドリンク名データとドリンク価格データの結合"
   ]
  },
  {
   "cell_type": "code",
   "execution_count": 17,
   "metadata": {},
   "outputs": [
    {
     "data": {
      "text/plain": [
       "(50621, 9)"
      ]
     },
     "execution_count": 17,
     "metadata": {},
     "output_type": "execute_result"
    }
   ],
   "source": [
    "# Indexを軸に結合\n",
    "restaurant_new_list = pd.merge(drink_name_split, drink_price_split, how=\"outer\", left_index=True, right_index=True)\n",
    "# 結合したときにデータの行数に変化が出ていないか確認\n",
    "restaurant_new_list.shape"
   ]
  },
  {
   "cell_type": "code",
   "execution_count": 18,
   "metadata": {},
   "outputs": [
    {
     "data": {
      "text/html": [
       "<div>\n",
       "<style scoped>\n",
       "    .dataframe tbody tr th:only-of-type {\n",
       "        vertical-align: middle;\n",
       "    }\n",
       "\n",
       "    .dataframe tbody tr th {\n",
       "        vertical-align: top;\n",
       "    }\n",
       "\n",
       "    .dataframe thead th {\n",
       "        text-align: right;\n",
       "    }\n",
       "</style>\n",
       "<table border=\"1\" class=\"dataframe\">\n",
       "  <thead>\n",
       "    <tr style=\"text-align: right;\">\n",
       "      <th></th>\n",
       "      <th>restaurant_name</th>\n",
       "      <th>restaurant_address</th>\n",
       "      <th>restaurant_tel</th>\n",
       "      <th>restaurant_url</th>\n",
       "      <th>restaurant_genre</th>\n",
       "      <th>drink_name</th>\n",
       "      <th>restaurant_latitude</th>\n",
       "      <th>restaurant_longitude</th>\n",
       "      <th>drink_price</th>\n",
       "    </tr>\n",
       "  </thead>\n",
       "  <tbody>\n",
       "    <tr>\n",
       "      <th>0</th>\n",
       "      <td>海鮮酒場　うおぷく　梅田店</td>\n",
       "      <td>大阪府大阪市北区堂山町4-12 白馬車ビル３F</td>\n",
       "      <td>050-5861-6095</td>\n",
       "      <td>https://www.hotpepper.jp/strJ001292956/</td>\n",
       "      <td>居酒屋・和食</td>\n",
       "      <td>黒ラベル</td>\n",
       "      <td>34.702542</td>\n",
       "      <td>135.502122</td>\n",
       "      <td>550</td>\n",
       "    </tr>\n",
       "    <tr>\n",
       "      <th>1</th>\n",
       "      <td>海鮮酒場　うおぷく　梅田店</td>\n",
       "      <td>大阪府大阪市北区堂山町4-12 白馬車ビル３F</td>\n",
       "      <td>050-5861-6095</td>\n",
       "      <td>https://www.hotpepper.jp/strJ001292956/</td>\n",
       "      <td>居酒屋・和食</td>\n",
       "      <td>アサヒスーパードライ（中瓶）/キリン一番搾り（中瓶）/赤星（中瓶）</td>\n",
       "      <td>34.702542</td>\n",
       "      <td>135.502122</td>\n",
       "      <td>660</td>\n",
       "    </tr>\n",
       "    <tr>\n",
       "      <th>2</th>\n",
       "      <td>海鮮酒場　うおぷく　梅田店</td>\n",
       "      <td>大阪府大阪市北区堂山町4-12 白馬車ビル３F</td>\n",
       "      <td>050-5861-6095</td>\n",
       "      <td>https://www.hotpepper.jp/strJ001292956/</td>\n",
       "      <td>居酒屋・和食</td>\n",
       "      <td>オールフリー（瓶）</td>\n",
       "      <td>34.702542</td>\n",
       "      <td>135.502122</td>\n",
       "      <td>550</td>\n",
       "    </tr>\n",
       "  </tbody>\n",
       "</table>\n",
       "</div>"
      ],
      "text/plain": [
       "  restaurant_name       restaurant_address restaurant_tel  \\\n",
       "0   海鮮酒場　うおぷく　梅田店  大阪府大阪市北区堂山町4-12 白馬車ビル３F  050-5861-6095   \n",
       "1   海鮮酒場　うおぷく　梅田店  大阪府大阪市北区堂山町4-12 白馬車ビル３F  050-5861-6095   \n",
       "2   海鮮酒場　うおぷく　梅田店  大阪府大阪市北区堂山町4-12 白馬車ビル３F  050-5861-6095   \n",
       "\n",
       "                            restaurant_url restaurant_genre  \\\n",
       "0  https://www.hotpepper.jp/strJ001292956/           居酒屋・和食   \n",
       "1  https://www.hotpepper.jp/strJ001292956/           居酒屋・和食   \n",
       "2  https://www.hotpepper.jp/strJ001292956/           居酒屋・和食   \n",
       "\n",
       "                          drink_name  restaurant_latitude  \\\n",
       "0                               黒ラベル            34.702542   \n",
       "1  アサヒスーパードライ（中瓶）/キリン一番搾り（中瓶）/赤星（中瓶）            34.702542   \n",
       "2                          オールフリー（瓶）            34.702542   \n",
       "\n",
       "   restaurant_longitude drink_price  \n",
       "0            135.502122         550  \n",
       "1            135.502122         660  \n",
       "2            135.502122         550  "
      ]
     },
     "execution_count": 18,
     "metadata": {},
     "output_type": "execute_result"
    }
   ],
   "source": [
    "restaurant_new_list.head(3)"
   ]
  },
  {
   "attachments": {},
   "cell_type": "markdown",
   "metadata": {},
   "source": [
    "### カラムを並び替える\n",
    "\n",
    "- 店名、住所、緯度、経度、電話番号、URL、ドリンク名、ドリンク価格の順番に並び替える"
   ]
  },
  {
   "cell_type": "code",
   "execution_count": 19,
   "metadata": {},
   "outputs": [
    {
     "data": {
      "text/html": [
       "<div>\n",
       "<style scoped>\n",
       "    .dataframe tbody tr th:only-of-type {\n",
       "        vertical-align: middle;\n",
       "    }\n",
       "\n",
       "    .dataframe tbody tr th {\n",
       "        vertical-align: top;\n",
       "    }\n",
       "\n",
       "    .dataframe thead th {\n",
       "        text-align: right;\n",
       "    }\n",
       "</style>\n",
       "<table border=\"1\" class=\"dataframe\">\n",
       "  <thead>\n",
       "    <tr style=\"text-align: right;\">\n",
       "      <th></th>\n",
       "      <th>drink_name</th>\n",
       "      <th>drink_price</th>\n",
       "      <th>restaurant_genre</th>\n",
       "      <th>restaurant_name</th>\n",
       "      <th>restaurant_address</th>\n",
       "      <th>restaurant_tel</th>\n",
       "      <th>restaurant_latitude</th>\n",
       "      <th>restaurant_longitude</th>\n",
       "      <th>restaurant_url</th>\n",
       "    </tr>\n",
       "  </thead>\n",
       "  <tbody>\n",
       "    <tr>\n",
       "      <th>0</th>\n",
       "      <td>黒ラベル</td>\n",
       "      <td>550</td>\n",
       "      <td>居酒屋・和食</td>\n",
       "      <td>海鮮酒場　うおぷく　梅田店</td>\n",
       "      <td>大阪府大阪市北区堂山町4-12 白馬車ビル３F</td>\n",
       "      <td>050-5861-6095</td>\n",
       "      <td>34.702542</td>\n",
       "      <td>135.502122</td>\n",
       "      <td>https://www.hotpepper.jp/strJ001292956/</td>\n",
       "    </tr>\n",
       "    <tr>\n",
       "      <th>1</th>\n",
       "      <td>アサヒスーパードライ（中瓶）/キリン一番搾り（中瓶）/赤星（中瓶）</td>\n",
       "      <td>660</td>\n",
       "      <td>居酒屋・和食</td>\n",
       "      <td>海鮮酒場　うおぷく　梅田店</td>\n",
       "      <td>大阪府大阪市北区堂山町4-12 白馬車ビル３F</td>\n",
       "      <td>050-5861-6095</td>\n",
       "      <td>34.702542</td>\n",
       "      <td>135.502122</td>\n",
       "      <td>https://www.hotpepper.jp/strJ001292956/</td>\n",
       "    </tr>\n",
       "    <tr>\n",
       "      <th>2</th>\n",
       "      <td>オールフリー（瓶）</td>\n",
       "      <td>550</td>\n",
       "      <td>居酒屋・和食</td>\n",
       "      <td>海鮮酒場　うおぷく　梅田店</td>\n",
       "      <td>大阪府大阪市北区堂山町4-12 白馬車ビル３F</td>\n",
       "      <td>050-5861-6095</td>\n",
       "      <td>34.702542</td>\n",
       "      <td>135.502122</td>\n",
       "      <td>https://www.hotpepper.jp/strJ001292956/</td>\n",
       "    </tr>\n",
       "  </tbody>\n",
       "</table>\n",
       "</div>"
      ],
      "text/plain": [
       "                          drink_name drink_price restaurant_genre  \\\n",
       "0                               黒ラベル         550           居酒屋・和食   \n",
       "1  アサヒスーパードライ（中瓶）/キリン一番搾り（中瓶）/赤星（中瓶）         660           居酒屋・和食   \n",
       "2                          オールフリー（瓶）         550           居酒屋・和食   \n",
       "\n",
       "  restaurant_name       restaurant_address restaurant_tel  \\\n",
       "0   海鮮酒場　うおぷく　梅田店  大阪府大阪市北区堂山町4-12 白馬車ビル３F  050-5861-6095   \n",
       "1   海鮮酒場　うおぷく　梅田店  大阪府大阪市北区堂山町4-12 白馬車ビル３F  050-5861-6095   \n",
       "2   海鮮酒場　うおぷく　梅田店  大阪府大阪市北区堂山町4-12 白馬車ビル３F  050-5861-6095   \n",
       "\n",
       "   restaurant_latitude  restaurant_longitude  \\\n",
       "0            34.702542            135.502122   \n",
       "1            34.702542            135.502122   \n",
       "2            34.702542            135.502122   \n",
       "\n",
       "                            restaurant_url  \n",
       "0  https://www.hotpepper.jp/strJ001292956/  \n",
       "1  https://www.hotpepper.jp/strJ001292956/  \n",
       "2  https://www.hotpepper.jp/strJ001292956/  "
      ]
     },
     "execution_count": 19,
     "metadata": {},
     "output_type": "execute_result"
    }
   ],
   "source": [
    "restaurant_new_list = restaurant_new_list.reindex(columns=[\"drink_name\", \"drink_price\", \"restaurant_genre\", \"restaurant_name\", \"restaurant_address\", \"restaurant_tel\", \"restaurant_latitude\", \"restaurant_longitude\", \"restaurant_url\"])\n",
    "restaurant_new_list.head(3)"
   ]
  },
  {
   "attachments": {},
   "cell_type": "markdown",
   "metadata": {},
   "source": [
    "## アプリ用にデータの整形"
   ]
  },
  {
   "attachments": {},
   "cell_type": "markdown",
   "metadata": {},
   "source": [
    "### `ドリンク名`、`ドリンク価格`、`緯度`、`経度`の値が空の行を削除"
   ]
  },
  {
   "attachments": {},
   "cell_type": "markdown",
   "metadata": {},
   "source": [
    "#### ドリンク名およびドリンク価格が空の場合 `np.nan` に置換\n",
    "\n",
    "- ドリンク名・ドリンク価格は、データがスクレイピングできないときには `\"\"` を格納しているので `dropna` で削除できないため置換が必要\n",
    "- 緯度・経度は `NaN` が入っているので置換する必要がない"
   ]
  },
  {
   "cell_type": "code",
   "execution_count": 20,
   "metadata": {},
   "outputs": [
    {
     "data": {
      "text/html": [
       "<div>\n",
       "<style scoped>\n",
       "    .dataframe tbody tr th:only-of-type {\n",
       "        vertical-align: middle;\n",
       "    }\n",
       "\n",
       "    .dataframe tbody tr th {\n",
       "        vertical-align: top;\n",
       "    }\n",
       "\n",
       "    .dataframe thead th {\n",
       "        text-align: right;\n",
       "    }\n",
       "</style>\n",
       "<table border=\"1\" class=\"dataframe\">\n",
       "  <thead>\n",
       "    <tr style=\"text-align: right;\">\n",
       "      <th></th>\n",
       "      <th>drink_name</th>\n",
       "      <th>drink_price</th>\n",
       "      <th>restaurant_genre</th>\n",
       "      <th>restaurant_name</th>\n",
       "      <th>restaurant_address</th>\n",
       "      <th>restaurant_tel</th>\n",
       "      <th>restaurant_latitude</th>\n",
       "      <th>restaurant_longitude</th>\n",
       "      <th>restaurant_url</th>\n",
       "    </tr>\n",
       "  </thead>\n",
       "  <tbody>\n",
       "    <tr>\n",
       "      <th>0</th>\n",
       "      <td>黒ラベル</td>\n",
       "      <td>550</td>\n",
       "      <td>居酒屋・和食</td>\n",
       "      <td>海鮮酒場　うおぷく　梅田店</td>\n",
       "      <td>大阪府大阪市北区堂山町4-12 白馬車ビル３F</td>\n",
       "      <td>050-5861-6095</td>\n",
       "      <td>34.702542</td>\n",
       "      <td>135.502122</td>\n",
       "      <td>https://www.hotpepper.jp/strJ001292956/</td>\n",
       "    </tr>\n",
       "    <tr>\n",
       "      <th>1</th>\n",
       "      <td>アサヒスーパードライ（中瓶）/キリン一番搾り（中瓶）/赤星（中瓶）</td>\n",
       "      <td>660</td>\n",
       "      <td>居酒屋・和食</td>\n",
       "      <td>海鮮酒場　うおぷく　梅田店</td>\n",
       "      <td>大阪府大阪市北区堂山町4-12 白馬車ビル３F</td>\n",
       "      <td>050-5861-6095</td>\n",
       "      <td>34.702542</td>\n",
       "      <td>135.502122</td>\n",
       "      <td>https://www.hotpepper.jp/strJ001292956/</td>\n",
       "    </tr>\n",
       "    <tr>\n",
       "      <th>2</th>\n",
       "      <td>オールフリー（瓶）</td>\n",
       "      <td>550</td>\n",
       "      <td>居酒屋・和食</td>\n",
       "      <td>海鮮酒場　うおぷく　梅田店</td>\n",
       "      <td>大阪府大阪市北区堂山町4-12 白馬車ビル３F</td>\n",
       "      <td>050-5861-6095</td>\n",
       "      <td>34.702542</td>\n",
       "      <td>135.502122</td>\n",
       "      <td>https://www.hotpepper.jp/strJ001292956/</td>\n",
       "    </tr>\n",
       "  </tbody>\n",
       "</table>\n",
       "</div>"
      ],
      "text/plain": [
       "                          drink_name drink_price restaurant_genre  \\\n",
       "0                               黒ラベル         550           居酒屋・和食   \n",
       "1  アサヒスーパードライ（中瓶）/キリン一番搾り（中瓶）/赤星（中瓶）         660           居酒屋・和食   \n",
       "2                          オールフリー（瓶）         550           居酒屋・和食   \n",
       "\n",
       "  restaurant_name       restaurant_address restaurant_tel  \\\n",
       "0   海鮮酒場　うおぷく　梅田店  大阪府大阪市北区堂山町4-12 白馬車ビル３F  050-5861-6095   \n",
       "1   海鮮酒場　うおぷく　梅田店  大阪府大阪市北区堂山町4-12 白馬車ビル３F  050-5861-6095   \n",
       "2   海鮮酒場　うおぷく　梅田店  大阪府大阪市北区堂山町4-12 白馬車ビル３F  050-5861-6095   \n",
       "\n",
       "   restaurant_latitude  restaurant_longitude  \\\n",
       "0            34.702542            135.502122   \n",
       "1            34.702542            135.502122   \n",
       "2            34.702542            135.502122   \n",
       "\n",
       "                            restaurant_url  \n",
       "0  https://www.hotpepper.jp/strJ001292956/  \n",
       "1  https://www.hotpepper.jp/strJ001292956/  \n",
       "2  https://www.hotpepper.jp/strJ001292956/  "
      ]
     },
     "execution_count": 20,
     "metadata": {},
     "output_type": "execute_result"
    }
   ],
   "source": [
    "# ドリンク名・ドリンク価格が `\"\"` だったら `np.nan` に置換し、上書き\n",
    "restaurant_new_list[\"drink_price\"].replace(\"\", np.nan, inplace=True)\n",
    "restaurant_new_list[\"drink_name\"].replace(\"\", np.nan, inplace=True)\n",
    "restaurant_new_list.head(3)"
   ]
  },
  {
   "cell_type": "code",
   "execution_count": 21,
   "metadata": {},
   "outputs": [
    {
     "data": {
      "text/plain": [
       "(50621, 9)"
      ]
     },
     "execution_count": 21,
     "metadata": {},
     "output_type": "execute_result"
    }
   ],
   "source": [
    "restaurant_new_list.shape"
   ]
  },
  {
   "attachments": {},
   "cell_type": "markdown",
   "metadata": {},
   "source": [
    "#### 欠損値がある行を CSV に出力\n",
    "\n",
    "- 参考: \n",
    "  - [pandas 欠損値NaN処理一覧｜抽出、除去、補間 \\- YutaKaのPython教室](https://www.yutaka-note.com/entry/pandas_na)\n",
    "  - [PandasでNaNの列を処理する \\- そうなんでげす](https://www.soudegesu.com/post/python/pandas_with_nan_columns/#%E5%90%84%E5%88%97%E3%81%ABnan%E3%81%8C%E5%AD%98%E5%9C%A8%E3%81%99%E3%82%8B%E3%81%8B%E3%82%92%E7%A2%BA%E8%AA%8D%E3%81%99%E3%82%8B)\n",
    "  - [pandas 欠損値NaN処理一覧｜抽出、除去、補間 \\- YutaKaのPython教室](https://www.yutaka-note.com/entry/pandas_na)"
   ]
  },
  {
   "cell_type": "code",
   "execution_count": 22,
   "metadata": {},
   "outputs": [
    {
     "data": {
      "text/plain": [
       "(779, 9)"
      ]
     },
     "execution_count": 22,
     "metadata": {},
     "output_type": "execute_result"
    }
   ],
   "source": [
    "_drop_nan_list = restaurant_new_list.isna().any(axis=1)\n",
    "drop_nan_list = restaurant_new_list.loc[_drop_nan_list, :]\n",
    "drop_nan_list.shape"
   ]
  },
  {
   "cell_type": "code",
   "execution_count": 23,
   "metadata": {},
   "outputs": [],
   "source": [
    "# drop_nan_list.to_csv(\"export_files/{}_{}_drop_nan_list.csv\".format(time, export_file_name), index=False)"
   ]
  },
  {
   "attachments": {},
   "cell_type": "markdown",
   "metadata": {},
   "source": [
    "#### 欠損値がある行を削除"
   ]
  },
  {
   "cell_type": "code",
   "execution_count": 24,
   "metadata": {},
   "outputs": [],
   "source": [
    "restaurant_new_list.dropna(how=\"any\", inplace=True)\n",
    "# restaurant_new_list.head(3)"
   ]
  },
  {
   "cell_type": "code",
   "execution_count": 25,
   "metadata": {},
   "outputs": [
    {
     "data": {
      "text/plain": [
       "(49842, 9)"
      ]
     },
     "execution_count": 25,
     "metadata": {},
     "output_type": "execute_result"
    }
   ],
   "source": [
    "restaurant_new_list.shape"
   ]
  },
  {
   "attachments": {},
   "cell_type": "markdown",
   "metadata": {},
   "source": [
    "#### `ドリンク価格` が数値以外のデータを抽出"
   ]
  },
  {
   "cell_type": "code",
   "execution_count": 26,
   "metadata": {},
   "outputs": [
    {
     "data": {
      "text/plain": [
       "(4807, 9)"
      ]
     },
     "execution_count": 26,
     "metadata": {},
     "output_type": "execute_result"
    }
   ],
   "source": [
    "drop_price_list = restaurant_new_list[restaurant_new_list[\"drink_price\"].apply(lambda s:pd.to_numeric(s, errors=\"coerce\")).isnull()]\n",
    "drop_price_list.shape"
   ]
  },
  {
   "attachments": {},
   "cell_type": "markdown",
   "metadata": {},
   "source": [
    "#### `ドリンク価格` が数値以外のデータを CSV に出力"
   ]
  },
  {
   "cell_type": "code",
   "execution_count": 27,
   "metadata": {},
   "outputs": [],
   "source": [
    "# drop_price_list.to_csv(\"export_files/{}_{}_drop_price_list.csv\".format(time, export_file_name), index=False)"
   ]
  },
  {
   "attachments": {},
   "cell_type": "markdown",
   "metadata": {},
   "source": [
    "#### `ドリンク価格` が数値以外のデータを削除"
   ]
  },
  {
   "cell_type": "code",
   "execution_count": 28,
   "metadata": {},
   "outputs": [],
   "source": [
    "# `inplace=True` デフォルト値は `False` で `False` の場合は指定しなくても良い\n",
    "# 削除前のデータを残しておく必要がないため `inplace=True` を設定して `restaurant_new_list` を上書きしている\n",
    "restaurant_new_list.drop(restaurant_new_list[restaurant_new_list[\"drink_price\"].apply(lambda s:pd.to_numeric(s, errors=\"coerce\")).isnull()].index, inplace=True)"
   ]
  },
  {
   "attachments": {},
   "cell_type": "markdown",
   "metadata": {},
   "source": [
    "#### ドリンク価格に全角が入っていた場合、半角に変換\n",
    "\n",
    "参考: [CSVデータをPythonでまとめて全角半角処理 \\- Qiita](https://qiita.com/b2bmakers/items/19f5bb7a7f0c63a34493)"
   ]
  },
  {
   "cell_type": "code",
   "execution_count": 29,
   "metadata": {},
   "outputs": [],
   "source": [
    "# jaconv をインストールしておく必要あり\n",
    "\n",
    "def shori(column):\n",
    "    list=  restaurant_new_list[column].values.tolist()\n",
    "    new_list = []\n",
    "\n",
    "    for li in list:\n",
    "        li = jaconv.z2h(li,digit=True, ascii=True, kana=True)\n",
    "        new_list.append(li)\n",
    "\n",
    "    restaurant_new_list[column] = new_list\n",
    "\n",
    "    return restaurant_new_list[column]\n",
    "\n",
    "##処理したいしたいカラム名をリストに入れます。\n",
    "columns = [\"drink_price\"]\n",
    "\n",
    "#forで回します。\n",
    "for column in columns:\n",
    "    shori(column)\n",
    "\n",
    "#strじゃないとエラーが出るときも。そんなときは\n",
    "restaurant_new_list = restaurant_new_list.astype(str)"
   ]
  },
  {
   "attachments": {},
   "cell_type": "markdown",
   "metadata": {},
   "source": [
    "## アプリ用に整形後のデータをエクスポート"
   ]
  },
  {
   "attachments": {},
   "cell_type": "markdown",
   "metadata": {},
   "source": [
    "### カラム名をアプリで利用している名称に変更"
   ]
  },
  {
   "cell_type": "code",
   "execution_count": 30,
   "metadata": {},
   "outputs": [
    {
     "data": {
      "text/html": [
       "<div>\n",
       "<style scoped>\n",
       "    .dataframe tbody tr th:only-of-type {\n",
       "        vertical-align: middle;\n",
       "    }\n",
       "\n",
       "    .dataframe tbody tr th {\n",
       "        vertical-align: top;\n",
       "    }\n",
       "\n",
       "    .dataframe thead th {\n",
       "        text-align: right;\n",
       "    }\n",
       "</style>\n",
       "<table border=\"1\" class=\"dataframe\">\n",
       "  <thead>\n",
       "    <tr style=\"text-align: right;\">\n",
       "      <th></th>\n",
       "      <th>menu</th>\n",
       "      <th>price</th>\n",
       "      <th>genre</th>\n",
       "      <th>name</th>\n",
       "      <th>adress</th>\n",
       "      <th>tel</th>\n",
       "      <th>lat</th>\n",
       "      <th>lng</th>\n",
       "      <th>url</th>\n",
       "    </tr>\n",
       "  </thead>\n",
       "  <tbody>\n",
       "    <tr>\n",
       "      <th>0</th>\n",
       "      <td>黒ラベル</td>\n",
       "      <td>550</td>\n",
       "      <td>居酒屋・和食</td>\n",
       "      <td>海鮮酒場　うおぷく　梅田店</td>\n",
       "      <td>大阪府大阪市北区堂山町4-12 白馬車ビル３F</td>\n",
       "      <td>050-5861-6095</td>\n",
       "      <td>34.702542</td>\n",
       "      <td>135.5021224</td>\n",
       "      <td>https://www.hotpepper.jp/strJ001292956/</td>\n",
       "    </tr>\n",
       "    <tr>\n",
       "      <th>1</th>\n",
       "      <td>アサヒスーパードライ（中瓶）/キリン一番搾り（中瓶）/赤星（中瓶）</td>\n",
       "      <td>660</td>\n",
       "      <td>居酒屋・和食</td>\n",
       "      <td>海鮮酒場　うおぷく　梅田店</td>\n",
       "      <td>大阪府大阪市北区堂山町4-12 白馬車ビル３F</td>\n",
       "      <td>050-5861-6095</td>\n",
       "      <td>34.702542</td>\n",
       "      <td>135.5021224</td>\n",
       "      <td>https://www.hotpepper.jp/strJ001292956/</td>\n",
       "    </tr>\n",
       "    <tr>\n",
       "      <th>2</th>\n",
       "      <td>オールフリー（瓶）</td>\n",
       "      <td>550</td>\n",
       "      <td>居酒屋・和食</td>\n",
       "      <td>海鮮酒場　うおぷく　梅田店</td>\n",
       "      <td>大阪府大阪市北区堂山町4-12 白馬車ビル３F</td>\n",
       "      <td>050-5861-6095</td>\n",
       "      <td>34.702542</td>\n",
       "      <td>135.5021224</td>\n",
       "      <td>https://www.hotpepper.jp/strJ001292956/</td>\n",
       "    </tr>\n",
       "  </tbody>\n",
       "</table>\n",
       "</div>"
      ],
      "text/plain": [
       "                                menu price   genre           name  \\\n",
       "0                               黒ラベル   550  居酒屋・和食  海鮮酒場　うおぷく　梅田店   \n",
       "1  アサヒスーパードライ（中瓶）/キリン一番搾り（中瓶）/赤星（中瓶）   660  居酒屋・和食  海鮮酒場　うおぷく　梅田店   \n",
       "2                          オールフリー（瓶）   550  居酒屋・和食  海鮮酒場　うおぷく　梅田店   \n",
       "\n",
       "                    adress            tel        lat          lng  \\\n",
       "0  大阪府大阪市北区堂山町4-12 白馬車ビル３F  050-5861-6095  34.702542  135.5021224   \n",
       "1  大阪府大阪市北区堂山町4-12 白馬車ビル３F  050-5861-6095  34.702542  135.5021224   \n",
       "2  大阪府大阪市北区堂山町4-12 白馬車ビル３F  050-5861-6095  34.702542  135.5021224   \n",
       "\n",
       "                                       url  \n",
       "0  https://www.hotpepper.jp/strJ001292956/  \n",
       "1  https://www.hotpepper.jp/strJ001292956/  \n",
       "2  https://www.hotpepper.jp/strJ001292956/  "
      ]
     },
     "execution_count": 30,
     "metadata": {},
     "output_type": "execute_result"
    }
   ],
   "source": [
    "restaurant_new_list.columns = [\"menu\", \"price\", \"genre\", \"name\", \"adress\", \"tel\", \"lat\", \"lng\", \"url\"]\n",
    "restaurant_new_list.index = range(len(restaurant_new_list))\n",
    "restaurant_new_list.head(3)"
   ]
  },
  {
   "attachments": {},
   "cell_type": "markdown",
   "metadata": {},
   "source": [
    "### 最終データを CSV に出力"
   ]
  },
  {
   "cell_type": "code",
   "execution_count": 31,
   "metadata": {},
   "outputs": [],
   "source": [
    "restaurant_new_list.to_csv(\"export_files/{}_{}_restaurant.csv\".format(time, export_file_name), index=False)"
   ]
  },
  {
   "attachments": {},
   "cell_type": "markdown",
   "metadata": {},
   "source": [
    "# ここからデータクレンジングの検討 @2022/12/17"
   ]
  },
  {
   "cell_type": "code",
   "execution_count": 32,
   "metadata": {},
   "outputs": [
    {
     "data": {
      "text/html": [
       "<div>\n",
       "<style scoped>\n",
       "    .dataframe tbody tr th:only-of-type {\n",
       "        vertical-align: middle;\n",
       "    }\n",
       "\n",
       "    .dataframe tbody tr th {\n",
       "        vertical-align: top;\n",
       "    }\n",
       "\n",
       "    .dataframe thead th {\n",
       "        text-align: right;\n",
       "    }\n",
       "</style>\n",
       "<table border=\"1\" class=\"dataframe\">\n",
       "  <thead>\n",
       "    <tr style=\"text-align: right;\">\n",
       "      <th></th>\n",
       "      <th>menu</th>\n",
       "      <th>price</th>\n",
       "      <th>genre</th>\n",
       "      <th>name</th>\n",
       "      <th>adress</th>\n",
       "      <th>tel</th>\n",
       "      <th>lat</th>\n",
       "      <th>lng</th>\n",
       "      <th>url</th>\n",
       "    </tr>\n",
       "  </thead>\n",
       "  <tbody>\n",
       "    <tr>\n",
       "      <th>0</th>\n",
       "      <td>黒ラベル</td>\n",
       "      <td>550</td>\n",
       "      <td>居酒屋・和食</td>\n",
       "      <td>海鮮酒場　うおぷく　梅田店</td>\n",
       "      <td>大阪府大阪市北区堂山町4-12 白馬車ビル３F</td>\n",
       "      <td>050-5861-6095</td>\n",
       "      <td>34.702542</td>\n",
       "      <td>135.5021224</td>\n",
       "      <td>https://www.hotpepper.jp/strJ001292956/</td>\n",
       "    </tr>\n",
       "    <tr>\n",
       "      <th>1</th>\n",
       "      <td>アサヒスーパードライ（中瓶）/キリン一番搾り（中瓶）/赤星（中瓶）</td>\n",
       "      <td>660</td>\n",
       "      <td>居酒屋・和食</td>\n",
       "      <td>海鮮酒場　うおぷく　梅田店</td>\n",
       "      <td>大阪府大阪市北区堂山町4-12 白馬車ビル３F</td>\n",
       "      <td>050-5861-6095</td>\n",
       "      <td>34.702542</td>\n",
       "      <td>135.5021224</td>\n",
       "      <td>https://www.hotpepper.jp/strJ001292956/</td>\n",
       "    </tr>\n",
       "    <tr>\n",
       "      <th>2</th>\n",
       "      <td>オールフリー（瓶）</td>\n",
       "      <td>550</td>\n",
       "      <td>居酒屋・和食</td>\n",
       "      <td>海鮮酒場　うおぷく　梅田店</td>\n",
       "      <td>大阪府大阪市北区堂山町4-12 白馬車ビル３F</td>\n",
       "      <td>050-5861-6095</td>\n",
       "      <td>34.702542</td>\n",
       "      <td>135.5021224</td>\n",
       "      <td>https://www.hotpepper.jp/strJ001292956/</td>\n",
       "    </tr>\n",
       "    <tr>\n",
       "      <th>3</th>\n",
       "      <td>シャンディーガフ/レッドアイ</td>\n",
       "      <td>462</td>\n",
       "      <td>居酒屋・和食</td>\n",
       "      <td>海鮮酒場　うおぷく　梅田店</td>\n",
       "      <td>大阪府大阪市北区堂山町4-12 白馬車ビル３F</td>\n",
       "      <td>050-5861-6095</td>\n",
       "      <td>34.702542</td>\n",
       "      <td>135.5021224</td>\n",
       "      <td>https://www.hotpepper.jp/strJ001292956/</td>\n",
       "    </tr>\n",
       "    <tr>\n",
       "      <th>4</th>\n",
       "      <td>ハイボール（デュワーズ）/ハイボール（角）</td>\n",
       "      <td>418</td>\n",
       "      <td>居酒屋・和食</td>\n",
       "      <td>海鮮酒場　うおぷく　梅田店</td>\n",
       "      <td>大阪府大阪市北区堂山町4-12 白馬車ビル３F</td>\n",
       "      <td>050-5861-6095</td>\n",
       "      <td>34.702542</td>\n",
       "      <td>135.5021224</td>\n",
       "      <td>https://www.hotpepper.jp/strJ001292956/</td>\n",
       "    </tr>\n",
       "    <tr>\n",
       "      <th>...</th>\n",
       "      <td>...</td>\n",
       "      <td>...</td>\n",
       "      <td>...</td>\n",
       "      <td>...</td>\n",
       "      <td>...</td>\n",
       "      <td>...</td>\n",
       "      <td>...</td>\n",
       "      <td>...</td>\n",
       "      <td>...</td>\n",
       "    </tr>\n",
       "    <tr>\n",
       "      <th>45030</th>\n",
       "      <td>ワイン用びぶどうで造ったぶどうジュース（赤・白）</td>\n",
       "      <td>528</td>\n",
       "      <td>ダイニングバー・バル</td>\n",
       "      <td>カジュアルフレンチとワイン ポポンペット ラスール</td>\n",
       "      <td>大阪府大阪市北区角田町5-1　梅田楽天地ビル1Ｆ</td>\n",
       "      <td>06-6311-0570</td>\n",
       "      <td>34.7038649</td>\n",
       "      <td>135.5005779</td>\n",
       "      <td>https://www.hotpepper.jp/strJ001184483/</td>\n",
       "    </tr>\n",
       "    <tr>\n",
       "      <th>45031</th>\n",
       "      <td>ピーチネクター</td>\n",
       "      <td>418</td>\n",
       "      <td>ダイニングバー・バル</td>\n",
       "      <td>カジュアルフレンチとワイン ポポンペット ラスール</td>\n",
       "      <td>大阪府大阪市北区角田町5-1　梅田楽天地ビル1Ｆ</td>\n",
       "      <td>06-6311-0570</td>\n",
       "      <td>34.7038649</td>\n",
       "      <td>135.5005779</td>\n",
       "      <td>https://www.hotpepper.jp/strJ001184483/</td>\n",
       "    </tr>\n",
       "    <tr>\n",
       "      <th>45032</th>\n",
       "      <td>ジンジャーエール</td>\n",
       "      <td>418</td>\n",
       "      <td>ダイニングバー・バル</td>\n",
       "      <td>カジュアルフレンチとワイン ポポンペット ラスール</td>\n",
       "      <td>大阪府大阪市北区角田町5-1　梅田楽天地ビル1Ｆ</td>\n",
       "      <td>06-6311-0570</td>\n",
       "      <td>34.7038649</td>\n",
       "      <td>135.5005779</td>\n",
       "      <td>https://www.hotpepper.jp/strJ001184483/</td>\n",
       "    </tr>\n",
       "    <tr>\n",
       "      <th>45033</th>\n",
       "      <td>オレンジジュース</td>\n",
       "      <td>418</td>\n",
       "      <td>ダイニングバー・バル</td>\n",
       "      <td>カジュアルフレンチとワイン ポポンペット ラスール</td>\n",
       "      <td>大阪府大阪市北区角田町5-1　梅田楽天地ビル1Ｆ</td>\n",
       "      <td>06-6311-0570</td>\n",
       "      <td>34.7038649</td>\n",
       "      <td>135.5005779</td>\n",
       "      <td>https://www.hotpepper.jp/strJ001184483/</td>\n",
       "    </tr>\n",
       "    <tr>\n",
       "      <th>45034</th>\n",
       "      <td>烏龍茶</td>\n",
       "      <td>418</td>\n",
       "      <td>ダイニングバー・バル</td>\n",
       "      <td>カジュアルフレンチとワイン ポポンペット ラスール</td>\n",
       "      <td>大阪府大阪市北区角田町5-1　梅田楽天地ビル1Ｆ</td>\n",
       "      <td>06-6311-0570</td>\n",
       "      <td>34.7038649</td>\n",
       "      <td>135.5005779</td>\n",
       "      <td>https://www.hotpepper.jp/strJ001184483/</td>\n",
       "    </tr>\n",
       "  </tbody>\n",
       "</table>\n",
       "<p>45035 rows × 9 columns</p>\n",
       "</div>"
      ],
      "text/plain": [
       "                                    menu price       genre  \\\n",
       "0                                   黒ラベル   550      居酒屋・和食   \n",
       "1      アサヒスーパードライ（中瓶）/キリン一番搾り（中瓶）/赤星（中瓶）   660      居酒屋・和食   \n",
       "2                              オールフリー（瓶）   550      居酒屋・和食   \n",
       "3                         シャンディーガフ/レッドアイ   462      居酒屋・和食   \n",
       "4                  ハイボール（デュワーズ）/ハイボール（角）   418      居酒屋・和食   \n",
       "...                                  ...   ...         ...   \n",
       "45030           ワイン用びぶどうで造ったぶどうジュース（赤・白）   528  ダイニングバー・バル   \n",
       "45031                            ピーチネクター   418  ダイニングバー・バル   \n",
       "45032                           ジンジャーエール   418  ダイニングバー・バル   \n",
       "45033                           オレンジジュース   418  ダイニングバー・バル   \n",
       "45034                                烏龍茶   418  ダイニングバー・バル   \n",
       "\n",
       "                            name                    adress            tel  \\\n",
       "0                  海鮮酒場　うおぷく　梅田店   大阪府大阪市北区堂山町4-12 白馬車ビル３F  050-5861-6095   \n",
       "1                  海鮮酒場　うおぷく　梅田店   大阪府大阪市北区堂山町4-12 白馬車ビル３F  050-5861-6095   \n",
       "2                  海鮮酒場　うおぷく　梅田店   大阪府大阪市北区堂山町4-12 白馬車ビル３F  050-5861-6095   \n",
       "3                  海鮮酒場　うおぷく　梅田店   大阪府大阪市北区堂山町4-12 白馬車ビル３F  050-5861-6095   \n",
       "4                  海鮮酒場　うおぷく　梅田店   大阪府大阪市北区堂山町4-12 白馬車ビル３F  050-5861-6095   \n",
       "...                          ...                       ...            ...   \n",
       "45030  カジュアルフレンチとワイン ポポンペット ラスール  大阪府大阪市北区角田町5-1　梅田楽天地ビル1Ｆ   06-6311-0570   \n",
       "45031  カジュアルフレンチとワイン ポポンペット ラスール  大阪府大阪市北区角田町5-1　梅田楽天地ビル1Ｆ   06-6311-0570   \n",
       "45032  カジュアルフレンチとワイン ポポンペット ラスール  大阪府大阪市北区角田町5-1　梅田楽天地ビル1Ｆ   06-6311-0570   \n",
       "45033  カジュアルフレンチとワイン ポポンペット ラスール  大阪府大阪市北区角田町5-1　梅田楽天地ビル1Ｆ   06-6311-0570   \n",
       "45034  カジュアルフレンチとワイン ポポンペット ラスール  大阪府大阪市北区角田町5-1　梅田楽天地ビル1Ｆ   06-6311-0570   \n",
       "\n",
       "              lat          lng                                      url  \n",
       "0       34.702542  135.5021224  https://www.hotpepper.jp/strJ001292956/  \n",
       "1       34.702542  135.5021224  https://www.hotpepper.jp/strJ001292956/  \n",
       "2       34.702542  135.5021224  https://www.hotpepper.jp/strJ001292956/  \n",
       "3       34.702542  135.5021224  https://www.hotpepper.jp/strJ001292956/  \n",
       "4       34.702542  135.5021224  https://www.hotpepper.jp/strJ001292956/  \n",
       "...           ...          ...                                      ...  \n",
       "45030  34.7038649  135.5005779  https://www.hotpepper.jp/strJ001184483/  \n",
       "45031  34.7038649  135.5005779  https://www.hotpepper.jp/strJ001184483/  \n",
       "45032  34.7038649  135.5005779  https://www.hotpepper.jp/strJ001184483/  \n",
       "45033  34.7038649  135.5005779  https://www.hotpepper.jp/strJ001184483/  \n",
       "45034  34.7038649  135.5005779  https://www.hotpepper.jp/strJ001184483/  \n",
       "\n",
       "[45035 rows x 9 columns]"
      ]
     },
     "execution_count": 32,
     "metadata": {},
     "output_type": "execute_result"
    }
   ],
   "source": [
    "restaurant_new_list"
   ]
  },
  {
   "attachments": {},
   "cell_type": "markdown",
   "metadata": {},
   "source": [
    "## ビールを抽出"
   ]
  },
  {
   "cell_type": "code",
   "execution_count": 33,
   "metadata": {},
   "outputs": [],
   "source": [
    "def shori(column):\n",
    "    list=  restaurant_new_list[column].values.tolist()\n",
    "    new_list = []\n",
    "\n",
    "    for li in list:\n",
    "        li = jaconv.z2h(li, digit=True, ascii=True, kana=False)\n",
    "        new_list.append(li)\n",
    "\n",
    "    restaurant_new_list[column] = new_list\n",
    "\n",
    "    return restaurant_new_list[column]\n",
    "\n",
    "##処理したいしたいカラム名をリストに入れます。\n",
    "columns = [\"menu\"]\n",
    "\n",
    "#forで回します。\n",
    "for column in columns:\n",
    "    shori(column)\n",
    "\n",
    "#strじゃないとエラーが出るときも。そんなときは\n",
    "restaurant_new_list = restaurant_new_list.astype(str)"
   ]
  },
  {
   "cell_type": "code",
   "execution_count": 34,
   "metadata": {},
   "outputs": [
    {
     "data": {
      "text/plain": [
       "(2206, 9)"
      ]
     },
     "execution_count": 34,
     "metadata": {},
     "output_type": "execute_result"
    }
   ],
   "source": [
    "_restaurant_beer_list = restaurant_new_list[restaurant_new_list.menu.str.contains(\"アサヒ|エビス|ヱビス|オリオンビール|ギネス|キリン|サッポロ|サントリー|スーパードライ|ニッポンプレミアム|ハートランドビール|ハイネケン|バドワイザー|ヒューガルデン|モルツ|ラガー|一番搾り生ビール|黒ラベル|生黒|生搾り|青島ビール|コロナ\")]\n",
    "_restaurant_beer_list.shape"
   ]
  },
  {
   "cell_type": "code",
   "execution_count": 35,
   "metadata": {},
   "outputs": [
    {
     "name": "stderr",
     "output_type": "stream",
     "text": [
      "/tmp/ipykernel_3976/2455202692.py:2: SettingWithCopyWarning: \n",
      "A value is trying to be set on a copy of a slice from a DataFrame.\n",
      "Try using .loc[row_indexer,col_indexer] = value instead\n",
      "\n",
      "See the caveats in the documentation: https://pandas.pydata.org/pandas-docs/stable/user_guide/indexing.html#returning-a-view-versus-a-copy\n",
      "  _restaurant_beer_list_drop[\"menu\"] = _restaurant_beer_list_drop[\"menu\"].str.strip()\n"
     ]
    },
    {
     "data": {
      "text/plain": [
       "(1726, 9)"
      ]
     },
     "execution_count": 35,
     "metadata": {},
     "output_type": "execute_result"
    }
   ],
   "source": [
    "_restaurant_beer_list_drop = _restaurant_beer_list[~_restaurant_beer_list[\"menu\"].str.contains(\"FREE|OLD|ROYAL|V.S.O.P|VOGA|VSOP|XO|ZERO|アペロール|ウィスキー|ウーロン茶|サントリーオールド|キリンフリー|キリンレモン|ネーブル|グレープフルーツ|オレンジ|サワー|サングリア|ゼロ|ドライゼロ|ノンアルコール|ハイボール|ビアリー|ファーム|フリー|マッコリ|ライム|リザーブ|レモン|ロイヤル|ローヤル|ワイナリー|烏龍茶|角|響|山崎|翠|知多|酎ハイ|梅酒|白州|碧|余市|零|吟醸|純米\")]\n",
    "_restaurant_beer_list_drop[\"menu\"] = _restaurant_beer_list_drop[\"menu\"].str.strip()\n",
    "_restaurant_beer_list_drop.shape"
   ]
  },
  {
   "cell_type": "code",
   "execution_count": 36,
   "metadata": {},
   "outputs": [
    {
     "name": "stderr",
     "output_type": "stream",
     "text": [
      "/tmp/ipykernel_3976/3008801843.py:1: SettingWithCopyWarning: \n",
      "A value is trying to be set on a copy of a slice from a DataFrame.\n",
      "Try using .loc[row_indexer,col_indexer] = value instead\n",
      "\n",
      "See the caveats in the documentation: https://pandas.pydata.org/pandas-docs/stable/user_guide/indexing.html#returning-a-view-versus-a-copy\n",
      "  _restaurant_beer_list_drop[\"menu\"] = _restaurant_beer_list_drop[\"menu\"].str.replace(\"エビス\", \"ヱビス\")\n"
     ]
    }
   ],
   "source": [
    "_restaurant_beer_list_drop[\"menu\"] = _restaurant_beer_list_drop[\"menu\"].str.replace(\"エビス\", \"ヱビス\")\n"
   ]
  },
  {
   "cell_type": "code",
   "execution_count": 37,
   "metadata": {},
   "outputs": [
    {
     "data": {
      "text/html": [
       "<div>\n",
       "<style scoped>\n",
       "    .dataframe tbody tr th:only-of-type {\n",
       "        vertical-align: middle;\n",
       "    }\n",
       "\n",
       "    .dataframe tbody tr th {\n",
       "        vertical-align: top;\n",
       "    }\n",
       "\n",
       "    .dataframe thead th {\n",
       "        text-align: right;\n",
       "    }\n",
       "</style>\n",
       "<table border=\"1\" class=\"dataframe\">\n",
       "  <thead>\n",
       "    <tr style=\"text-align: right;\">\n",
       "      <th></th>\n",
       "      <th>menu</th>\n",
       "      <th>price</th>\n",
       "      <th>genre</th>\n",
       "      <th>name</th>\n",
       "      <th>adress</th>\n",
       "      <th>tel</th>\n",
       "      <th>lat</th>\n",
       "      <th>lng</th>\n",
       "      <th>url</th>\n",
       "    </tr>\n",
       "  </thead>\n",
       "  <tbody>\n",
       "    <tr>\n",
       "      <th>0</th>\n",
       "      <td>黒ラベル</td>\n",
       "      <td>550</td>\n",
       "      <td>居酒屋・和食</td>\n",
       "      <td>海鮮酒場　うおぷく　梅田店</td>\n",
       "      <td>大阪府大阪市北区堂山町4-12 白馬車ビル３F</td>\n",
       "      <td>050-5861-6095</td>\n",
       "      <td>34.702542</td>\n",
       "      <td>135.5021224</td>\n",
       "      <td>https://www.hotpepper.jp/strJ001292956/</td>\n",
       "    </tr>\n",
       "    <tr>\n",
       "      <th>1</th>\n",
       "      <td>アサヒスーパードライ(中瓶)/キリン一番搾り(中瓶)/赤星(中瓶)</td>\n",
       "      <td>660</td>\n",
       "      <td>居酒屋・和食</td>\n",
       "      <td>海鮮酒場　うおぷく　梅田店</td>\n",
       "      <td>大阪府大阪市北区堂山町4-12 白馬車ビル３F</td>\n",
       "      <td>050-5861-6095</td>\n",
       "      <td>34.702542</td>\n",
       "      <td>135.5021224</td>\n",
       "      <td>https://www.hotpepper.jp/strJ001292956/</td>\n",
       "    </tr>\n",
       "    <tr>\n",
       "      <th>135</th>\n",
       "      <td>サントリー ザ・プレミアムモルツ 中</td>\n",
       "      <td>198</td>\n",
       "      <td>居酒屋・和食</td>\n",
       "      <td>お初天神応援団　勝男</td>\n",
       "      <td>大阪府大阪市北区曽根崎２－７－１３</td>\n",
       "      <td>050-5452-6150</td>\n",
       "      <td>34.6997866</td>\n",
       "      <td>135.500493</td>\n",
       "      <td>https://www.hotpepper.jp/strJ001259280/</td>\n",
       "    </tr>\n",
       "    <tr>\n",
       "      <th>136</th>\n",
       "      <td>サントリー ザ・プレミアムモルツ お得ジョッキ</td>\n",
       "      <td>286</td>\n",
       "      <td>居酒屋・和食</td>\n",
       "      <td>お初天神応援団　勝男</td>\n",
       "      <td>大阪府大阪市北区曽根崎２－７－１３</td>\n",
       "      <td>050-5452-6150</td>\n",
       "      <td>34.6997866</td>\n",
       "      <td>135.500493</td>\n",
       "      <td>https://www.hotpepper.jp/strJ001259280/</td>\n",
       "    </tr>\n",
       "    <tr>\n",
       "      <th>166</th>\n",
       "      <td>キリン一番搾り</td>\n",
       "      <td>440</td>\n",
       "      <td>居酒屋</td>\n",
       "      <td>最大165品　食べ放題 飲み放題　大衆居酒屋　梅田スタンド　梅田店</td>\n",
       "      <td>大阪府大阪市北区曽根崎２丁目 16-22 ジャスミン曽根崎ビル9F</td>\n",
       "      <td>050-5816-3131</td>\n",
       "      <td>34.7017024</td>\n",
       "      <td>135.5004102</td>\n",
       "      <td>https://www.hotpepper.jp/strJ001277115/</td>\n",
       "    </tr>\n",
       "    <tr>\n",
       "      <th>...</th>\n",
       "      <td>...</td>\n",
       "      <td>...</td>\n",
       "      <td>...</td>\n",
       "      <td>...</td>\n",
       "      <td>...</td>\n",
       "      <td>...</td>\n",
       "      <td>...</td>\n",
       "      <td>...</td>\n",
       "      <td>...</td>\n",
       "    </tr>\n",
       "    <tr>\n",
       "      <th>44860</th>\n",
       "      <td>スーパードライ(中瓶)</td>\n",
       "      <td>550</td>\n",
       "      <td>居酒屋</td>\n",
       "      <td>鶴すし　梅田お初天神店</td>\n",
       "      <td>大阪府大阪市北区曽根崎２-10-14</td>\n",
       "      <td>050-5831-0747</td>\n",
       "      <td>34.7009597</td>\n",
       "      <td>135.5007968</td>\n",
       "      <td>https://www.hotpepper.jp/strJ001281847/</td>\n",
       "    </tr>\n",
       "    <tr>\n",
       "      <th>44899</th>\n",
       "      <td>アサヒスーパードライ 瓶ビール(中)</td>\n",
       "      <td>638</td>\n",
       "      <td>居酒屋</td>\n",
       "      <td>新世界串カツ　いっとく　大阪駅前第４ビル店</td>\n",
       "      <td>大阪府大阪市北区梅田１－１１－４　大阪駅前第4ビル　地下2階</td>\n",
       "      <td>06-6348-9499</td>\n",
       "      <td>34.6998973</td>\n",
       "      <td>135.4988268</td>\n",
       "      <td>https://www.hotpepper.jp/strJ001153979/</td>\n",
       "    </tr>\n",
       "    <tr>\n",
       "      <th>44931</th>\n",
       "      <td>ザ・プレミアムモルツ(中)</td>\n",
       "      <td>418</td>\n",
       "      <td>居酒屋</td>\n",
       "      <td>個室均一居酒屋　きんいち　お初天神店</td>\n",
       "      <td>大阪府大阪市北区曽根崎２-8-7 コーストスタジョーネ4F</td>\n",
       "      <td>06-6364-1111</td>\n",
       "      <td>34.6997226</td>\n",
       "      <td>135.5011282</td>\n",
       "      <td>https://www.hotpepper.jp/strJ000690098/</td>\n",
       "    </tr>\n",
       "    <tr>\n",
       "      <th>44953</th>\n",
       "      <td>ザ・プレミアムモルツ(中)</td>\n",
       "      <td>418</td>\n",
       "      <td>居酒屋</td>\n",
       "      <td>食べ放題専門居酒屋　日本一　梅田店</td>\n",
       "      <td>大阪府大阪市北区曽根崎２-8-7　コーストスタジョーネ4階</td>\n",
       "      <td>06-6364-3833</td>\n",
       "      <td>34.6997226</td>\n",
       "      <td>135.5011282</td>\n",
       "      <td>https://www.hotpepper.jp/strJ001029469/</td>\n",
       "    </tr>\n",
       "    <tr>\n",
       "      <th>45017</th>\n",
       "      <td>生ビール (ハイネケン)</td>\n",
       "      <td>550</td>\n",
       "      <td>ダイニングバー・バル</td>\n",
       "      <td>カジュアルフレンチとワイン ポポンペット ラスール</td>\n",
       "      <td>大阪府大阪市北区角田町5-1　梅田楽天地ビル1Ｆ</td>\n",
       "      <td>06-6311-0570</td>\n",
       "      <td>34.7038649</td>\n",
       "      <td>135.5005779</td>\n",
       "      <td>https://www.hotpepper.jp/strJ001184483/</td>\n",
       "    </tr>\n",
       "  </tbody>\n",
       "</table>\n",
       "<p>1726 rows × 9 columns</p>\n",
       "</div>"
      ],
      "text/plain": [
       "                                    menu price       genre  \\\n",
       "0                                   黒ラベル   550      居酒屋・和食   \n",
       "1      アサヒスーパードライ(中瓶)/キリン一番搾り(中瓶)/赤星(中瓶)   660      居酒屋・和食   \n",
       "135                   サントリー ザ・プレミアムモルツ 中   198      居酒屋・和食   \n",
       "136              サントリー ザ・プレミアムモルツ お得ジョッキ   286      居酒屋・和食   \n",
       "166                              キリン一番搾り   440         居酒屋   \n",
       "...                                  ...   ...         ...   \n",
       "44860                        スーパードライ(中瓶)   550         居酒屋   \n",
       "44899                 アサヒスーパードライ 瓶ビール(中)   638         居酒屋   \n",
       "44931                      ザ・プレミアムモルツ(中)   418         居酒屋   \n",
       "44953                      ザ・プレミアムモルツ(中)   418         居酒屋   \n",
       "45017                       生ビール (ハイネケン)   550  ダイニングバー・バル   \n",
       "\n",
       "                                    name                             adress  \\\n",
       "0                          海鮮酒場　うおぷく　梅田店            大阪府大阪市北区堂山町4-12 白馬車ビル３F   \n",
       "1                          海鮮酒場　うおぷく　梅田店            大阪府大阪市北区堂山町4-12 白馬車ビル３F   \n",
       "135                           お初天神応援団　勝男                  大阪府大阪市北区曽根崎２－７－１３   \n",
       "136                           お初天神応援団　勝男                  大阪府大阪市北区曽根崎２－７－１３   \n",
       "166    最大165品　食べ放題 飲み放題　大衆居酒屋　梅田スタンド　梅田店  大阪府大阪市北区曽根崎２丁目 16-22 ジャスミン曽根崎ビル9F   \n",
       "...                                  ...                                ...   \n",
       "44860                        鶴すし　梅田お初天神店                 大阪府大阪市北区曽根崎２-10-14   \n",
       "44899              新世界串カツ　いっとく　大阪駅前第４ビル店     大阪府大阪市北区梅田１－１１－４　大阪駅前第4ビル　地下2階   \n",
       "44931                 個室均一居酒屋　きんいち　お初天神店      大阪府大阪市北区曽根崎２-8-7 コーストスタジョーネ4F   \n",
       "44953                  食べ放題専門居酒屋　日本一　梅田店      大阪府大阪市北区曽根崎２-8-7　コーストスタジョーネ4階   \n",
       "45017          カジュアルフレンチとワイン ポポンペット ラスール           大阪府大阪市北区角田町5-1　梅田楽天地ビル1Ｆ   \n",
       "\n",
       "                 tel         lat          lng  \\\n",
       "0      050-5861-6095   34.702542  135.5021224   \n",
       "1      050-5861-6095   34.702542  135.5021224   \n",
       "135    050-5452-6150  34.6997866   135.500493   \n",
       "136    050-5452-6150  34.6997866   135.500493   \n",
       "166    050-5816-3131  34.7017024  135.5004102   \n",
       "...              ...         ...          ...   \n",
       "44860  050-5831-0747  34.7009597  135.5007968   \n",
       "44899   06-6348-9499  34.6998973  135.4988268   \n",
       "44931   06-6364-1111  34.6997226  135.5011282   \n",
       "44953   06-6364-3833  34.6997226  135.5011282   \n",
       "45017   06-6311-0570  34.7038649  135.5005779   \n",
       "\n",
       "                                           url  \n",
       "0      https://www.hotpepper.jp/strJ001292956/  \n",
       "1      https://www.hotpepper.jp/strJ001292956/  \n",
       "135    https://www.hotpepper.jp/strJ001259280/  \n",
       "136    https://www.hotpepper.jp/strJ001259280/  \n",
       "166    https://www.hotpepper.jp/strJ001277115/  \n",
       "...                                        ...  \n",
       "44860  https://www.hotpepper.jp/strJ001281847/  \n",
       "44899  https://www.hotpepper.jp/strJ001153979/  \n",
       "44931  https://www.hotpepper.jp/strJ000690098/  \n",
       "44953  https://www.hotpepper.jp/strJ001029469/  \n",
       "45017  https://www.hotpepper.jp/strJ001184483/  \n",
       "\n",
       "[1726 rows x 9 columns]"
      ]
     },
     "execution_count": 37,
     "metadata": {},
     "output_type": "execute_result"
    }
   ],
   "source": [
    "_restaurant_beer_list_drop"
   ]
  },
  {
   "cell_type": "code",
   "execution_count": null,
   "metadata": {},
   "outputs": [],
   "source": []
  },
  {
   "cell_type": "code",
   "execution_count": 38,
   "metadata": {},
   "outputs": [],
   "source": [
    "_restaurant_beer_list_drop = _restaurant_beer_list_drop.sort_values(by=\"menu\", ascending=True)"
   ]
  },
  {
   "cell_type": "code",
   "execution_count": 39,
   "metadata": {},
   "outputs": [],
   "source": [
    "# print(_restaurant_beer_list_drop['menu'].dtypes)\n",
    "# _restaurant_beer_list_drop[\"menu\"].astype(str)"
   ]
  },
  {
   "cell_type": "code",
   "execution_count": 40,
   "metadata": {},
   "outputs": [],
   "source": [
    "_restaurant_beer_list_drop.to_csv(\"export_files/{}_{}_beer.csv\".format(time, export_file_name), index=False)"
   ]
  },
  {
   "cell_type": "code",
   "execution_count": null,
   "metadata": {},
   "outputs": [],
   "source": []
  }
 ],
 "metadata": {
  "kernelspec": {
   "display_name": ".venv-map",
   "language": "python",
   "name": "python3"
  },
  "language_info": {
   "codemirror_mode": {
    "name": "ipython",
    "version": 3
   },
   "file_extension": ".py",
   "mimetype": "text/x-python",
   "name": "python",
   "nbconvert_exporter": "python",
   "pygments_lexer": "ipython3",
   "version": "3.8.10 (default, Nov 14 2022, 12:59:47) \n[GCC 9.4.0]"
  },
  "orig_nbformat": 4,
  "vscode": {
   "interpreter": {
    "hash": "1b77e848ed7ace4ef97a4e01059e8e49517eae9777a6bbc5e801904542bb7d33"
   }
  }
 },
 "nbformat": 4,
 "nbformat_minor": 2
}
